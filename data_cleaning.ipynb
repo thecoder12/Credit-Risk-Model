{
 "cells": [
  {
   "cell_type": "code",
   "execution_count": 1,
   "id": "905573ab",
   "metadata": {},
   "outputs": [],
   "source": [
    "import pandas as pd\n",
    "import matplotlib as plt"
   ]
  },
  {
   "cell_type": "code",
   "execution_count": 2,
   "id": "f9419efb",
   "metadata": {},
   "outputs": [],
   "source": [
    "df = pd.read_csv('loan_data.csv',low_memory=False)"
   ]
  },
  {
   "cell_type": "code",
   "execution_count": 44,
   "id": "2f4501d5",
   "metadata": {},
   "outputs": [
    {
     "data": {
      "text/plain": [
       "(466285, 74)"
      ]
     },
     "execution_count": 44,
     "metadata": {},
     "output_type": "execute_result"
    }
   ],
   "source": [
    "df.shape"
   ]
  },
  {
   "cell_type": "code",
   "execution_count": 26,
   "id": "19d606e8",
   "metadata": {},
   "outputs": [],
   "source": [
    "new_df = df.filter(['loan_amount','term','int_rate','installment','emp_length','annual_inc', 'verification_status','loan_status'])"
   ]
  },
  {
   "cell_type": "code",
   "execution_count": 43,
   "id": "200497a5",
   "metadata": {},
   "outputs": [
    {
     "data": {
      "text/plain": [
       "(445273, 7)"
      ]
     },
     "execution_count": 43,
     "metadata": {},
     "output_type": "execute_result"
    }
   ],
   "source": [
    "new_df.shape"
   ]
  },
  {
   "cell_type": "code",
   "execution_count": 28,
   "id": "24b6045b",
   "metadata": {},
   "outputs": [
    {
     "data": {
      "text/plain": [
       "['term',\n",
       " 'int_rate',\n",
       " 'installment',\n",
       " 'emp_length',\n",
       " 'annual_inc',\n",
       " 'verification_status',\n",
       " 'loan_status']"
      ]
     },
     "execution_count": 28,
     "metadata": {},
     "output_type": "execute_result"
    }
   ],
   "source": [
    "list(new_df.columns)"
   ]
  },
  {
   "cell_type": "code",
   "execution_count": 33,
   "id": "766db89b",
   "metadata": {},
   "outputs": [],
   "source": [
    "#remove records with NO annual income, they might deflect the actual model.\n",
    "new_df = new_df[new_df['annual_inc'].isnull() == False]\n",
    "new_df = new_df[new_df['emp_length'].isnull() == False]"
   ]
  },
  {
   "cell_type": "code",
   "execution_count": 34,
   "id": "25200226",
   "metadata": {},
   "outputs": [],
   "source": [
    "#new_df['emp_length']"
   ]
  },
  {
   "cell_type": "code",
   "execution_count": 38,
   "id": "302c2993",
   "metadata": {},
   "outputs": [],
   "source": [
    "def clean(x):\n",
    "    x = x.replace(\"+\", \"\").replace(\" \", \"\").replace(\"years\", \"\").replace(\"year\",\"\").replace(\"<\",\"\")\n",
    "    return(x)"
   ]
  },
  {
   "cell_type": "code",
   "execution_count": 39,
   "id": "f6e5abab",
   "metadata": {},
   "outputs": [],
   "source": [
    "new_df['emp_length'] = new_df['emp_length'].apply(clean)"
   ]
  },
  {
   "cell_type": "code",
   "execution_count": 42,
   "id": "66645319",
   "metadata": {},
   "outputs": [
    {
     "data": {
      "text/plain": [
       "(445273, 7)"
      ]
     },
     "execution_count": 42,
     "metadata": {},
     "output_type": "execute_result"
    }
   ],
   "source": [
    "new_df.shape"
   ]
  },
  {
   "cell_type": "code",
   "execution_count": 40,
   "id": "fe6d7270",
   "metadata": {},
   "outputs": [],
   "source": [
    "new_df.to_csv('Filtered_data.csv', sep='\\t')"
   ]
  },
  {
   "cell_type": "code",
   "execution_count": null,
   "id": "760109fb",
   "metadata": {},
   "outputs": [],
   "source": []
  }
 ],
 "metadata": {
  "kernelspec": {
   "display_name": "Python 3 (ipykernel)",
   "language": "python",
   "name": "python3"
  },
  "language_info": {
   "codemirror_mode": {
    "name": "ipython",
    "version": 3
   },
   "file_extension": ".py",
   "mimetype": "text/x-python",
   "name": "python",
   "nbconvert_exporter": "python",
   "pygments_lexer": "ipython3",
   "version": "3.10.4"
  }
 },
 "nbformat": 4,
 "nbformat_minor": 5
}
