{
 "cells": [
  {
   "cell_type": "code",
   "execution_count": 1,
   "id": "905573ab",
   "metadata": {},
   "outputs": [],
   "source": [
    "import pandas as pd\n",
    "import matplotlib.pyplot as plt"
   ]
  },
  {
   "cell_type": "code",
   "execution_count": null,
   "id": "f9419efb",
   "metadata": {},
   "outputs": [],
   "source": [
    "df = pd.read_csv('loan_data.csv',low_memory=False)"
   ]
  },
  {
   "cell_type": "code",
   "execution_count": null,
   "id": "176fe2b0",
   "metadata": {},
   "outputs": [],
   "source": [
    "df.shape"
   ]
  },
  {
   "cell_type": "code",
   "execution_count": null,
   "id": "19d606e8",
   "metadata": {},
   "outputs": [],
   "source": [
    "new_df = df.filter(['loan_amount','term','int_rate','installment','emp_length','annual_inc', 'verification_status','loan_status'])"
   ]
  },
  {
   "cell_type": "code",
   "execution_count": null,
   "id": "200497a5",
   "metadata": {},
   "outputs": [],
   "source": [
    "new_df.shape"
   ]
  },
  {
   "cell_type": "code",
   "execution_count": null,
   "id": "24b6045b",
   "metadata": {},
   "outputs": [],
   "source": [
    "list(new_df.columns)"
   ]
  },
  {
   "cell_type": "code",
   "execution_count": null,
   "id": "766db89b",
   "metadata": {},
   "outputs": [],
   "source": [
    "#remove records with NO annual income, they might deflect the actual model.\n",
    "new_df = new_df[new_df['annual_inc'].isnull() == False]\n",
    "new_df = new_df[new_df['emp_length'].isnull() == False]"
   ]
  },
  {
   "cell_type": "code",
   "execution_count": null,
   "id": "d3ef0d59",
   "metadata": {},
   "outputs": [],
   "source": [
    "#new_df['emp_length']"
   ]
  },
  {
   "cell_type": "code",
   "execution_count": null,
   "id": "f130afd4",
   "metadata": {},
   "outputs": [],
   "source": [
    "def clean(x):\n",
    "    x = x.replace(\"+\", \"\").replace(\" \", \"\").replace(\"years\", \"\").replace(\"year\",\"\").replace(\"<\",\"\")\n",
    "    return(x)\n",
    "\n",
    "def clean_term(x):\n",
    "    x = x.replace(\" months\", \"\")\n",
    "    return(x)\n",
    "\n",
    "def clean_loan_status(x):\n",
    "    x = x.replace(\"Does not meet the credit policy. Status:Fully Paid\", \"Fully Paid\")\n",
    "    x = x.replace(\"Does not meet the credit policy. Status:Charged Off\", \"Charged Off\")\n",
    "    return(x)"
   ]
  },
  {
   "cell_type": "code",
   "execution_count": null,
   "id": "01f5f448",
   "metadata": {},
   "outputs": [],
   "source": [
    "new_df['emp_length'] = new_df['emp_length'].apply(clean)\n",
    "new_df['term'] = new_df['term'].apply(clean_term)\n",
    "new_df['loan_status'] = new_df['loan_status'].apply(clean_loan_status)"
   ]
  },
  {
   "cell_type": "code",
   "execution_count": null,
   "id": "136e3ea5",
   "metadata": {},
   "outputs": [],
   "source": [
    "new_df.shape"
   ]
  },
  {
   "cell_type": "code",
   "execution_count": null,
   "id": "0c6c6f12",
   "metadata": {},
   "outputs": [],
   "source": [
    "plt_df = new_df.filter(['term','loan_status'])"
   ]
  },
  {
   "cell_type": "code",
   "execution_count": null,
   "id": "6abb5283",
   "metadata": {},
   "outputs": [],
   "source": [
    "plt.scatter(plt_df['term'],plt_df['loan_status'], color='red', marker='+')\n",
    "# plt.xticks(rotation=70) \n",
    "# #x-axis labels \n",
    "# plt.xlabel('Food item') \n",
    "# #y-axis labels \n",
    "# plt.ylabel('Quantity sold') \n",
    "# #plot title \n",
    "# plt.title('Most popular food') \n",
    "# plt.savefig('/home/rohit/Downloads/Credit-Risk-Model/bar_plot.png',dpi=300,bbox_inches='tight') \n",
    "# plot(plt.show());"
   ]
  },
  {
   "cell_type": "code",
   "execution_count": null,
   "id": "1f2f4d0a",
   "metadata": {},
   "outputs": [],
   "source": [
    "from sklearn.preprocessing import LabelEncoder"
   ]
  },
  {
   "cell_type": "code",
   "execution_count": null,
   "id": "78695d1e",
   "metadata": {},
   "outputs": [],
   "source": [
    "le = LabelEncoder()\n",
    "dfle = new_df\n",
    "dfle.verification_status = le.fit_transform(dfle.verification_status)\n",
    "dfle"
   ]
  },
  {
   "cell_type": "code",
   "execution_count": null,
   "id": "bf984cf2",
   "metadata": {},
   "outputs": [],
   "source": []
  },
  {
   "cell_type": "code",
   "execution_count": null,
   "id": "5a8c66ac",
   "metadata": {},
   "outputs": [],
   "source": []
  },
  {
   "cell_type": "code",
   "execution_count": null,
   "id": "cc02f2c6",
   "metadata": {},
   "outputs": [],
   "source": []
  },
  {
   "cell_type": "code",
   "execution_count": null,
   "id": "c1885e47",
   "metadata": {},
   "outputs": [],
   "source": [
    "new_df.to_csv('Filtered_data.csv', sep='\\t')"
   ]
  },
  {
   "cell_type": "code",
   "execution_count": null,
   "id": "fd14ae84",
   "metadata": {},
   "outputs": [],
   "source": []
  }
 ],
 "metadata": {
  "kernelspec": {
   "display_name": "Python 3 (ipykernel)",
   "language": "python",
   "name": "python3"
  },
  "language_info": {
   "codemirror_mode": {
    "name": "ipython",
    "version": 3
   },
   "file_extension": ".py",
   "mimetype": "text/x-python",
   "name": "python",
   "nbconvert_exporter": "python",
   "pygments_lexer": "ipython3",
   "version": "3.10.4"
  }
 },
 "nbformat": 4,
 "nbformat_minor": 5
}
